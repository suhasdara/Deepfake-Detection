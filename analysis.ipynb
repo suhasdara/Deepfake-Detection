{
 "cells": [
  {
   "cell_type": "markdown",
   "metadata": {},
   "source": [
    "# Functions created for offline analysis"
   ]
  },
  {
   "cell_type": "code",
   "execution_count": null,
   "metadata": {},
   "outputs": [],
   "source": [
    "#1 is fake and 0 is real\n",
    "#code authored by Aditya Tyagi and Suhas Dara\n",
    "import os\n",
    "import json\n",
    "import pandas as pd"
   ]
  },
  {
   "cell_type": "code",
   "execution_count": null,
   "metadata": {},
   "outputs": [],
   "source": [
    "image_labels = pd.read_csv(\"dataset_images/labels.csv\")\n",
    "video_labels = pd.read_csv(\"dataset_videos/labels.csv\")\n",
    "\n",
    "survey_data = pd.read_csv(\"worker_data/survey_data.csv\", usecols=[\"code\",\"age\",\"races\",\"gender\",\"education\",\"CRT1\",\"CRT2\",\"CRT3\",\"AC1\",\"AC2\",\"AC3\",\"AC4\"])"
   ]
  },
  {
   "cell_type": "code",
   "execution_count": null,
   "metadata": {},
   "outputs": [],
   "source": [
    "def get_manifest_data():\n",
    "    manifest_data = []\n",
    "    \n",
    "    name = \"worker_data/iteration1/input1.manifest\"\n",
    "    with open(name) as file:\n",
    "        manifest_data.extend(file.readlines())\n",
    "    name = \"worker_data/iteration2/input2.manifest\"\n",
    "    with open(name) as file:\n",
    "        manifest_data.extend(file.readlines())\n",
    "    \n",
    "    return manifest_data"
   ]
  },
  {
   "cell_type": "code",
   "execution_count": null,
   "metadata": {},
   "outputs": [],
   "source": [
    "def get_json_data():\n",
    "    json_data = []\n",
    "    \n",
    "    responses_dir = \"worker_data/iteration1/worker_responses/\"\n",
    "    for filename in sorted(os.listdir(responses_dir)):\n",
    "        with open(os.path.join(responses_dir, filename)) as file:\n",
    "            json_data.append(json.load(file))\n",
    "    responses_dir = \"worker_data/iteration2/worker_responses/\"\n",
    "    for filename in sorted(os.listdir(responses_dir)):\n",
    "        with open(os.path.join(responses_dir, filename)) as file:\n",
    "            json_data.append(json.load(file))\n",
    "    \n",
    "    print(len(json_data))\n",
    "    return json_data"
   ]
  },
  {
   "cell_type": "code",
   "execution_count": null,
   "metadata": {},
   "outputs": [],
   "source": [
    "def get_videorationale(response):\n",
    "    return response[\"videorationale\"]"
   ]
  },
  {
   "cell_type": "code",
   "execution_count": null,
   "metadata": {},
   "outputs": [],
   "source": [
    "def get_imagerationale(response):\n",
    "    return response[\"imagerationale\"]"
   ]
  },
  {
   "cell_type": "code",
   "execution_count": null,
   "metadata": {},
   "outputs": [],
   "source": [
    "def get_code(response):\n",
    "    #returns the code from the worker response\n",
    "    return int(response[\"code\"])"
   ]
  },
  {
   "cell_type": "code",
   "execution_count": null,
   "metadata": {},
   "outputs": [],
   "source": [
    "def get_worker_id(worker_response):\n",
    "    #returns the ID of worker from worker response\n",
    "    return worker_response[\"workerId\"]"
   ]
  },
  {
   "cell_type": "code",
   "execution_count": null,
   "metadata": {},
   "outputs": [],
   "source": [
    "def get_response_rows(worker_response, manifest_input):\n",
    "    #returns new rows for dataframe [worker_id, code, image_num, video_num, label, annotation]\n",
    "    response_rows = []\n",
    "    \n",
    "    element1 = manifest_input[\"source-ref\"]\n",
    "    element1 = element1[element1.rindex(\"/\")+1:]\n",
    "    element1_label = image_labels[image_labels[\"filename\"]==element1][\"label\"].iloc[0]\n",
    "   \n",
    "    element2 = manifest_input[\"element2\"]\n",
    "    element2 = element2[element2.rindex(\"/\")+1:]\n",
    "    element2_label = image_labels[image_labels[\"filename\"]==element2][\"label\"].iloc[0]\n",
    "    \n",
    "    element3 = manifest_input[\"element3\"]\n",
    "    element3 = element3[element3.rindex(\"/\")+1:]\n",
    "    element3_label = video_labels[video_labels[\"filename\"]==element3][\"label\"].iloc[0]\n",
    "    \n",
    "    element4 = manifest_input[\"element4\"]\n",
    "    element4 = element4[element4.rindex(\"/\")+1:]\n",
    "    element4_label = video_labels[video_labels[\"filename\"]==element4][\"label\"].iloc[0]\n",
    "    \n",
    "    worker_id = get_worker_id(worker_response)\n",
    "    \n",
    "    answer_content = worker_response[\"answerContent\"]\n",
    "    code = get_code(answer_content)\n",
    "    if(answer_content[\"image1\"][\"real\"]): #only check for real (0), if it is not then fake (1)\n",
    "        response_rows.append([worker_id, code, int(element1.split(\".\")[0]), float('NaN'), element1_label, 0])\n",
    "    else:\n",
    "        response_rows.append([worker_id, code, int(element1.split(\".\")[0]), float('NaN'), element1_label, 1])\n",
    "    if(answer_content[\"image2\"][\"real\"]):\n",
    "        response_rows.append([worker_id, code, int(element2.split(\".\")[0]), float('NaN'), element2_label, 0])\n",
    "    else:\n",
    "        response_rows.append([worker_id, code, int(element2.split(\".\")[0]), float('NaN'), element2_label, 1])\n",
    "    if(answer_content[\"video1\"][\"real\"]):\n",
    "        response_rows.append([worker_id, code, float('NaN'), int(element3.split(\".\")[0]), element3_label, 0])\n",
    "    else:\n",
    "        response_rows.append([worker_id, code, float('NaN'), int(element3.split(\".\")[0]), element3_label, 1])\n",
    "    if(answer_content[\"video2\"][\"real\"]):\n",
    "        response_rows.append([worker_id, code, float('NaN'), int(element4.split(\".\")[0]), element4_label, 0])\n",
    "    else:\n",
    "        response_rows.append([worker_id, code, float('NaN'), int(element4.split(\".\")[0]), element4_label, 1])\n",
    "\n",
    "    return response_rows"
   ]
  },
  {
   "cell_type": "code",
   "execution_count": null,
   "metadata": {},
   "outputs": [],
   "source": [
    "def get_rationale_row(worker_response, manifest_input):\n",
    "    #returns new rows for dataframe [worker_id, code, image1, image2, video1, video2, image_rat, video_rat]\n",
    "    response_rows = []\n",
    "    \n",
    "    element1 = manifest_input[\"source-ref\"]\n",
    "    element1 = int(element1[element1.rindex(\"/\")+1:element1.rindex(\".\")]) #convert the string to only the number\n",
    "   \n",
    "    element2 = manifest_input[\"element2\"]\n",
    "    element2 = int(element2[element2.rindex(\"/\")+1:element2.rindex(\".\")]) #convert the string to only the number\n",
    "    \n",
    "    element3 = manifest_input[\"element3\"]\n",
    "    element3 = int(element3[element3.rindex(\"/\")+1:element3.rindex(\".\")]) #convert the string to only the number\n",
    "    \n",
    "    element4 = manifest_input[\"element4\"]\n",
    "    element4 = int(element4[element4.rindex(\"/\")+1:element4.rindex(\".\")]) #convert the string to only the number\n",
    "    \n",
    "    worker_id = get_worker_id(worker_response)\n",
    "    \n",
    "    answer_content = worker_response[\"answerContent\"]\n",
    "    code = get_code(answer_content)\n",
    "    image = get_imagerationale(answer_content)\n",
    "    video = get_videorationale(answer_content)\n",
    "    \n",
    "    return [worker_id, code, element1, element2, element3, element4, image, video]"
   ]
  },
  {
   "cell_type": "markdown",
   "metadata": {},
   "source": [
    "# Looping through response here"
   ]
  },
  {
   "cell_type": "code",
   "execution_count": null,
   "metadata": {},
   "outputs": [],
   "source": [
    "def create_dataframes():\n",
    "    manifest_data = get_manifest_data()\n",
    "    json_data = get_json_data()\n",
    "    \n",
    "    df_anot = pd.DataFrame(columns=[\"workerId\",\"code\",\"image\",\"video\",\"label\",\"annotation\"])\n",
    "    df_rat = pd.DataFrame(columns=[\"workerId\",\"code\",\"image1\",\"image2\",\"video1\",\"video2\",\"image_rat\",\"video_rat\"])\n",
    "    \n",
    "    for manifest_index in range(len(manifest_data)):\n",
    "        manifest_input = json.loads(manifest_data[manifest_index])\n",
    "        worker_responses = json_data[manifest_index][\"answers\"]\n",
    "        \n",
    "        for worker_response in worker_responses:\n",
    "            response_rows = get_response_rows(worker_response, manifest_input)\n",
    "            for row in response_rows:\n",
    "                df_anot.loc[-1] = row\n",
    "                df_anot.index = df_anot.index + 1\n",
    "            \n",
    "            rationale_row = get_rationale_row(worker_response, manifest_input)\n",
    "            df_rat.loc[-1] = rationale_row\n",
    "            df_rat.index = df_rat.index + 1\n",
    "    \n",
    "    return df_anot.sort_index(), df_rat.sort_index()"
   ]
  },
  {
   "cell_type": "code",
   "execution_count": null,
   "metadata": {},
   "outputs": [],
   "source": [
    "annotations, rationales = create_dataframes()"
   ]
  },
  {
   "cell_type": "code",
   "execution_count": null,
   "metadata": {},
   "outputs": [],
   "source": [
    "annotations"
   ]
  },
  {
   "cell_type": "code",
   "execution_count": null,
   "metadata": {},
   "outputs": [],
   "source": [
    "rationales"
   ]
  },
  {
   "cell_type": "code",
   "execution_count": null,
   "metadata": {},
   "outputs": [],
   "source": [
    "survey_data"
   ]
  },
  {
   "cell_type": "code",
   "execution_count": null,
   "metadata": {},
   "outputs": [],
   "source": [
    "pd.merge(annotations, survey_data, on=[\"code\"])"
   ]
  }
 ],
 "metadata": {
  "kernelspec": {
   "display_name": "Python 3",
   "language": "python",
   "name": "python3"
  },
  "language_info": {
   "codemirror_mode": {
    "name": "ipython",
    "version": 3
   },
   "file_extension": ".py",
   "mimetype": "text/x-python",
   "name": "python",
   "nbconvert_exporter": "python",
   "pygments_lexer": "ipython3",
   "version": "3.8.5"
  }
 },
 "nbformat": 4,
 "nbformat_minor": 2
}
