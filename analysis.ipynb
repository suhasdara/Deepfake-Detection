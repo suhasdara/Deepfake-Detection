{
 "cells": [
  {
   "cell_type": "markdown",
   "metadata": {},
   "source": [
    "# Functions created for offline analysis"
   ]
  },
  {
   "cell_type": "code",
   "execution_count": 1,
   "metadata": {},
   "outputs": [],
   "source": [
    "#0 is fake and 1 is real\n",
    "#code authored by Aditya Tyagi and Suhas Dara\n",
    "import json\n",
    "json_data = [] #list of all the json inputs from each worker response\n",
    "manifest_data = [] #list of all the json inputs from the input.manifest\n",
    "worker_dictionary = {} #dictionary where key is worker id and value is the responses by the worker"
   ]
  },
  {
   "cell_type": "code",
   "execution_count": 2,
   "metadata": {},
   "outputs": [],
   "source": [
    "name = \"sample_input.manifest\" #TEST FILE: CHANGE NAME\n",
    "with open(name) as file:\n",
    "    manifest_data = file.readlines()"
   ]
  },
  {
   "cell_type": "code",
   "execution_count": 3,
   "metadata": {},
   "outputs": [],
   "source": [
    "def get_videorationale(response):\n",
    "    return response[\"videorationale\"]"
   ]
  },
  {
   "cell_type": "code",
   "execution_count": 4,
   "metadata": {},
   "outputs": [],
   "source": [
    "def get_imagerationale(response):\n",
    "    return response[\"imagerationale\"]"
   ]
  },
  {
   "cell_type": "code",
   "execution_count": 5,
   "metadata": {},
   "outputs": [],
   "source": [
    "worker_file_path = \"./\" #TEST FOLDER: CHANGE IT\n",
    "extension = \".json\""
   ]
  },
  {
   "cell_type": "code",
   "execution_count": 6,
   "metadata": {},
   "outputs": [],
   "source": [
    "def get_code(response):\n",
    "    #returns the code from the worker response\n",
    "    return response[\"code\"]\n"
   ]
  },
  {
   "cell_type": "code",
   "execution_count": 7,
   "metadata": {},
   "outputs": [],
   "source": [
    "def get_worker_id(worker_response):\n",
    "    #returns the ID of worker from worker response\n",
    "    return worker_response[\"workerId\"]"
   ]
  },
  {
   "cell_type": "code",
   "execution_count": 8,
   "metadata": {},
   "outputs": [],
   "source": [
    "name = worker_file_path +\"sample_response\"+extension\n",
    "with open(name) as file:\n",
    "    json_data.append(json.load(file)) #load all the JSON files: Please loop through all the different files here"
   ]
  },
  {
   "cell_type": "code",
   "execution_count": 9,
   "metadata": {},
   "outputs": [],
   "source": [
    "def get_response_tuples(answer_content, response_number):\n",
    "    #returns list of tuples with format [(image element, response),(image element, response ),(video element, response),(video element, response)]\n",
    "    tuple1, tuple2, tuple3, tuple4 = (\"\",\"\"),(\"\",\"\"),(\"\",\"\"),(\"\",\"\")\n",
    "    manifest_input = json.loads(manifest_data[response_number])\n",
    "    response_tuples = []\n",
    "    print((manifest_input))\n",
    "    element1 = manifest_input[\"source-ref\"]\n",
    "    element1 = element1[element1.rindex(\"/\")+1:element1.rindex(\".\")] #convert the string to only the number\n",
    "   \n",
    "    \n",
    "    element2 = manifest_input[\"element2\"]\n",
    "    element2 = element2[element2.rindex(\"/\")+1:element2.rindex(\".\")] #convert the string to only the number\n",
    "    \n",
    "    \n",
    "    element3 = manifest_input[\"element3\"]\n",
    "    element3 = element3[element3.rindex(\"/\")+1:element3.rindex(\".\")] #convert the string to only the number\n",
    "    \n",
    "    \n",
    "    element4 = manifest_input[\"element4\"]\n",
    "    element4 = element4[element4.rindex(\"/\")+1:element4.rindex(\".\")] #convert the string to only the number\n",
    "    \n",
    "    \n",
    "    if(answer_content[\"image1\"][\"real\"]): #only check for real, if it is not then fake (0)\n",
    "        tuple1 = (int(element1), 1)\n",
    "    else:\n",
    "        tuple1 = (int(element1), 0)\n",
    "    if(answer_content[\"image2\"][\"real\"]):\n",
    "        tuple2 = (int(element2), 1)\n",
    "    else:\n",
    "        tuple2 = (int(element2), 0)\n",
    "    if(answer_content[\"video1\"][\"real\"]):\n",
    "        tuple3 = (int(element3), 1)\n",
    "    else:\n",
    "        tuple3 = (int(element3), 0)\n",
    "    if(answer_content[\"video2\"][\"real\"]):\n",
    "        tuple4 = (int(element4), 1)\n",
    "    else:\n",
    "        tuple4 = (int(element4), 0)\n",
    "    \n",
    "    response_tuples.append(tuple1)# append all the tuples\n",
    "    response_tuples.append(tuple2)\n",
    "    response_tuples.append(tuple3)\n",
    "    response_tuples.append(tuple4)\n",
    "    return response_tuples"
   ]
  },
  {
   "cell_type": "markdown",
   "metadata": {},
   "source": [
    "# Looping through response here"
   ]
  },
  {
   "cell_type": "code",
   "execution_count": 10,
   "metadata": {},
   "outputs": [],
   "source": [
    "response_index =0 #what number of response it is\n",
    "worker_index= 0 #each response will have multiple workers, which one?\n",
    "\n",
    "worker_response = (json_data[response_index][\"answers\"][worker_index]) #the whole response for worker_index in response_index\n",
    "answer_content = worker_response[\"answerContent\"] #just the answers in the worker response"
   ]
  },
  {
   "cell_type": "code",
   "execution_count": 11,
   "metadata": {},
   "outputs": [
    {
     "name": "stdout",
     "output_type": "stream",
     "text": [
      "{'source-ref': 's3://hcomp-project/images/5.jpeg', 'element2': 's3://hcomp-project/images/14.jpeg', 'element3': 's3://hcomp-project/videos/37.mp4', 'element4': 's3://hcomp-project/videos/10.mp4'}\n"
     ]
    }
   ],
   "source": [
    "worker_id = get_worker_id(worker_response)\n",
    "code = get_code(answer_content)\n",
    "imagerationale = get_imagerationale(answer_content)\n",
    "videorationale = get_videorationale(answer_content)\n",
    "tuples = get_response_tuples(answer_content, response_index)\n",
    "\n",
    "if(worker_id not in worker_dictionary):\n",
    "    #create new entry if id not present already and initialize lists\n",
    "    worker_dictionary[worker_id] = {}\n",
    "    worker_dictionary[worker_id]['annotations'] = []\n",
    "    worker_dictionary[worker_id]['imagerationales'] = []\n",
    "    worker_dictionary[worker_id]['videorationales'] = []\n",
    "\n",
    "worker_dictionary[worker_id]['annotations'].extend(tuples)\n",
    "worker_dictionary[worker_id]['imagerationales'].append(imagerationale)\n",
    "worker_dictionary[worker_id]['videorationales'].append(videorationale)"
   ]
  },
  {
   "cell_type": "code",
   "execution_count": 12,
   "metadata": {},
   "outputs": [
    {
     "name": "stdout",
     "output_type": "stream",
     "text": [
      "{'private.us-east-1.33baede55e9f1a05': {'annotations': [(5, 1), (14, 0), (37, 1), (10, 1)], 'imagerationales': ['aaa', 'asdasd'], 'videorationales': []}}\n"
     ]
    }
   ],
   "source": [
    "print(worker_dictionary)"
   ]
  },
  {
   "cell_type": "code",
   "execution_count": null,
   "metadata": {},
   "outputs": [],
   "source": []
  }
 ],
 "metadata": {
  "kernelspec": {
   "display_name": "Python 3",
   "language": "python",
   "name": "python3"
  },
  "language_info": {
   "codemirror_mode": {
    "name": "ipython",
    "version": 3
   },
   "file_extension": ".py",
   "mimetype": "text/x-python",
   "name": "python",
   "nbconvert_exporter": "python",
   "pygments_lexer": "ipython3",
   "version": "3.8.5"
  }
 },
 "nbformat": 4,
 "nbformat_minor": 2
}
